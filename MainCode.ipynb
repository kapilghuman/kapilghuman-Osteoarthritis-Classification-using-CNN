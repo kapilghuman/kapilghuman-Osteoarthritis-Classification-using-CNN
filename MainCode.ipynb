{
 "cells": [
  {
   "cell_type": "code",
   "execution_count": 1,
   "metadata": {},
   "outputs": [],
   "source": [
    "#new Code"
   ]
  },
  {
   "cell_type": "code",
   "execution_count": 1,
   "metadata": {},
   "outputs": [
    {
     "name": "stderr",
     "output_type": "stream",
     "text": [
      "Using TensorFlow backend.\n"
     ]
    }
   ],
   "source": [
    "#from tensorflow.examples.tutorials.mnist import input_data\n",
    "from keras.models import Sequential\n",
    "from keras.layers import LSTM, Dense\n",
    "from keras.models import load_model\n",
    "import numpy as np\n",
    "import pandas as pd\n",
    "import matplotlib.pyplot as plt "
   ]
  },
  {
   "cell_type": "code",
   "execution_count": 2,
   "metadata": {},
   "outputs": [],
   "source": [
    "# Classifier\n",
    "time_steps=28 # timesteps to unroll\n",
    "n_units=128 # hidden LSTM units\n",
    "n_inputs=28 # rows of 28 pixels (an mnist img is 28x28)\n",
    "n_classes=10 # mnist classes/labels (0-9)\n",
    "batch_size=128 # Size of each batch\n",
    "n_epochs=5\n",
    "# Internal\n",
    "_data_loaded = False\n",
    "_trained = False\n"
   ]
  },
  {
   "cell_type": "code",
   "execution_count": 3,
   "metadata": {},
   "outputs": [],
   "source": [
    "def __create_model():\n",
    "    model = Sequential()\n",
    "    model.add(LSTM(n_units, input_shape=(time_steps, n_inputs)))\n",
    "    model.add(Dense(n_classes, activation='softmax'))\n",
    "\n",
    "    model.compile(loss='categorical_crossentropy',\n",
    "                  optimizer='rmsprop',\n",
    "                  metrics=['accuracy'])"
   ]
  },
  {
   "cell_type": "code",
   "execution_count": 4,
   "metadata": {},
   "outputs": [],
   "source": [
    "__create_model()"
   ]
  },
  {
   "cell_type": "code",
   "execution_count": 5,
   "metadata": {},
   "outputs": [],
   "source": [
    "from keras.preprocessing.image import ImageDataGenerator\n",
    "datagen = ImageDataGenerator()"
   ]
  },
  {
   "cell_type": "code",
   "execution_count": 40,
   "metadata": {},
   "outputs": [
    {
     "name": "stdout",
     "output_type": "stream",
     "text": [
      "Found 2100 images belonging to 5 classes.\n",
      "Found 696 images belonging to 5 classes.\n",
      "Found 900 images belonging to 5 classes.\n"
     ]
    }
   ],
   "source": [
    "# load and iterate training dataset\n",
    "train_it = datagen.flow_from_directory('../../train (copy)/',target_size=(224, 224),\n",
    "    color_mode=\"rgb\",\n",
    "    batch_size=32,\n",
    "    class_mode=\"categorical\",\n",
    "    shuffle=False,\n",
    "    seed=42)\n",
    "# load and iterate validation dataset\n",
    "val_it = datagen.flow_from_directory('../../val/',target_size=(224, 224),\n",
    "    color_mode=\"rgb\",\n",
    "    batch_size=32,\n",
    "    class_mode=\"categorical\",\n",
    "    shuffle=False,\n",
    "    seed=42)\n",
    "# # load and iterate test dataset\n",
    "test_it = datagen.flow_from_directory('../../test/',target_size=(224, 224),\n",
    "    color_mode=\"rgb\",\n",
    "    batch_size=32,\n",
    "    class_mode=\"categorical\",\n",
    "    shuffle=False,\n",
    "    seed=42)"
   ]
  },
  {
   "cell_type": "code",
   "execution_count": 48,
   "metadata": {},
   "outputs": [
    {
     "ename": "SystemError",
     "evalue": "<built-in function imread> returned NULL without setting an error",
     "output_type": "error",
     "traceback": [
      "\u001b[0;31m---------------------------------------------------------------------------\u001b[0m",
      "\u001b[0;31mSystemError\u001b[0m                               Traceback (most recent call last)",
      "\u001b[0;32m<ipython-input-48-3afb5a9debf8>\u001b[0m in \u001b[0;36m<module>\u001b[0;34m\u001b[0m\n\u001b[1;32m      1\u001b[0m \u001b[0;32mimport\u001b[0m \u001b[0mcv2\u001b[0m\u001b[0;34m\u001b[0m\u001b[0;34m\u001b[0m\u001b[0m\n\u001b[1;32m      2\u001b[0m \u001b[0;34m\u001b[0m\u001b[0m\n\u001b[0;32m----> 3\u001b[0;31m \u001b[0mimg\u001b[0m \u001b[0;34m=\u001b[0m \u001b[0mcv2\u001b[0m\u001b[0;34m.\u001b[0m\u001b[0mimread\u001b[0m\u001b[0;34m(\u001b[0m\u001b[0mtrain_it\u001b[0m\u001b[0;34m[\u001b[0m\u001b[0;36m0\u001b[0m\u001b[0;34m]\u001b[0m\u001b[0;34m)\u001b[0m\u001b[0;34m\u001b[0m\u001b[0;34m\u001b[0m\u001b[0m\n\u001b[0m",
      "\u001b[0;31mSystemError\u001b[0m: <built-in function imread> returned NULL without setting an error"
     ]
    }
   ],
   "source": [
    "import cv2\n",
    "\n",
    "img = cv2.imread(train_it[0])"
   ]
  },
  {
   "cell_type": "code",
   "execution_count": 19,
   "metadata": {},
   "outputs": [],
   "source": [
    "# define model\n",
    "model = Sequential()"
   ]
  },
  {
   "cell_type": "code",
   "execution_count": 37,
   "metadata": {},
   "outputs": [
    {
     "name": "stdout",
     "output_type": "stream",
     "text": [
      "Batch shape=(64, 256, 256, 3), min=2.000, max=254.000\n"
     ]
    }
   ],
   "source": [
    "batchX, batchy = train_it.next()\n",
    "print('Batch shape=%s, min=%.3f, max=%.3f' % (batchX.shape, batchX.min(), batchX.max()))"
   ]
  },
  {
   "cell_type": "code",
   "execution_count": 38,
   "metadata": {},
   "outputs": [
    {
     "data": {
      "text/plain": [
       "array([3., 2., 2., 0., 3., 3., 4., 1., 1., 3., 3., 0., 0., 2., 1., 2., 2.,\n",
       "       3., 3., 2., 0., 2., 2., 3., 3., 3., 3., 0., 4., 4., 2., 2., 0., 0.,\n",
       "       2., 1., 2., 3., 4., 3., 0., 2., 3., 0., 4., 4., 1., 0., 3., 2., 3.,\n",
       "       4., 1., 2., 3., 4., 2., 2., 2., 0., 0., 1., 1., 0.], dtype=float32)"
      ]
     },
     "execution_count": 38,
     "metadata": {},
     "output_type": "execute_result"
    }
   ],
   "source": [
    "batchy"
   ]
  },
  {
   "cell_type": "code",
   "execution_count": null,
   "metadata": {},
   "outputs": [],
   "source": [
    "# fit model\n",
    "model.fit_generator(train_it, steps_per_epoch=16, validation_data=val_it, validation_steps=8)"
   ]
  },
  {
   "cell_type": "code",
   "execution_count": 12,
   "metadata": {},
   "outputs": [
    {
     "ename": "ModuleNotFoundError",
     "evalue": "No module named 'tensorflow.examples.tutorials'",
     "output_type": "error",
     "traceback": [
      "\u001b[0;31m---------------------------------------------------------------------------\u001b[0m",
      "\u001b[0;31mModuleNotFoundError\u001b[0m                       Traceback (most recent call last)",
      "\u001b[0;32m<ipython-input-12-837a9aea8bf6>\u001b[0m in \u001b[0;36m<module>\u001b[0;34m\u001b[0m\n\u001b[1;32m      1\u001b[0m \u001b[0;32mimport\u001b[0m \u001b[0msys\u001b[0m\u001b[0;34m\u001b[0m\u001b[0;34m\u001b[0m\u001b[0m\n\u001b[1;32m      2\u001b[0m \u001b[0;34m\u001b[0m\u001b[0m\n\u001b[0;32m----> 3\u001b[0;31m \u001b[0;32mfrom\u001b[0m \u001b[0mtensorflow\u001b[0m\u001b[0;34m.\u001b[0m\u001b[0mexamples\u001b[0m\u001b[0;34m.\u001b[0m\u001b[0mtutorials\u001b[0m\u001b[0;34m.\u001b[0m\u001b[0mmnist\u001b[0m \u001b[0;32mimport\u001b[0m \u001b[0minput_data\u001b[0m\u001b[0;34m\u001b[0m\u001b[0;34m\u001b[0m\u001b[0m\n\u001b[0m\u001b[1;32m      4\u001b[0m \u001b[0;32mfrom\u001b[0m \u001b[0mkeras\u001b[0m\u001b[0;34m.\u001b[0m\u001b[0mmodels\u001b[0m \u001b[0;32mimport\u001b[0m \u001b[0mSequential\u001b[0m\u001b[0;34m\u001b[0m\u001b[0;34m\u001b[0m\u001b[0m\n\u001b[1;32m      5\u001b[0m \u001b[0;32mfrom\u001b[0m \u001b[0mkeras\u001b[0m\u001b[0;34m.\u001b[0m\u001b[0mlayers\u001b[0m \u001b[0;32mimport\u001b[0m \u001b[0mLSTM\u001b[0m\u001b[0;34m,\u001b[0m \u001b[0mDense\u001b[0m\u001b[0;34m\u001b[0m\u001b[0;34m\u001b[0m\u001b[0m\n",
      "\u001b[0;31mModuleNotFoundError\u001b[0m: No module named 'tensorflow.examples.tutorials'"
     ]
    }
   ],
   "source": [
    "class MnistLSTMClassifier(object):\n",
    "\n",
    "\n",
    "\n",
    "    def __load_data(self):\n",
    "        self.mnist = input_data.read_data_sets(\"mnist\", one_hot=True)\n",
    "        self._data_loaded = True\n",
    "\n",
    "    def train(self, save_model=False):\n",
    "        self.__create_model()\n",
    "        if self._data_loaded == False:\n",
    "            self.__load_data()\n",
    "\n",
    "        x_train = [x.reshape((-1, self.time_steps, self.n_inputs)) for x in self.mnist.train.images]\n",
    "        x_train = np.array(x_train).reshape((-1, self.time_steps, self.n_inputs))\n",
    "\n",
    "        self.model.fit(x_train, self.mnist.train.labels,\n",
    "                  batch_size=self.batch_size, epochs=self.n_epochs, shuffle=False)\n",
    "\n",
    "        self._trained = True\n",
    "        \n",
    "        if save_model:\n",
    "            self.model.save(\"./saved_model/lstm-model.h5\")\n",
    "\n",
    "    def evaluate(self, model=None):\n",
    "        if self._trained == False and model == None:\n",
    "            errmsg = \"[!] Error: classifier wasn't trained or classifier path is not precised.\"\n",
    "            print(errmsg, file=sys.stderr)\n",
    "            sys.exit(0)\n",
    "\n",
    "        if self._data_loaded == False:\n",
    "            self.__load_data()\n",
    "\n",
    "        x_test = [x.reshape((-1, self.time_steps, self.n_inputs)) for x in self.mnist.test.images]\n",
    "        x_test = np.array(x_test).reshape((-1, self.time_steps, self.n_inputs))\n",
    "\n",
    "        model = load_model(model) if model else self.model\n",
    "        test_loss = model.evaluate(x_test, self.mnist.test.labels)\n",
    "        print(test_loss)\n",
    "\n",
    "\n",
    "if __name__ == \"__main__\":\n",
    "    lstm_classifier = MnistLSTMClassifier()\n",
    "    lstm_classifier.train(save_model=True)\n",
    "    lstm_classifier.evaluate()"
   ]
  }
 ],
 "metadata": {
  "kernelspec": {
   "display_name": "Python 3",
   "language": "python",
   "name": "python3"
  },
  "language_info": {
   "codemirror_mode": {
    "name": "ipython",
    "version": 3
   },
   "file_extension": ".py",
   "mimetype": "text/x-python",
   "name": "python",
   "nbconvert_exporter": "python",
   "pygments_lexer": "ipython3",
   "version": "3.7.3"
  }
 },
 "nbformat": 4,
 "nbformat_minor": 4
}
