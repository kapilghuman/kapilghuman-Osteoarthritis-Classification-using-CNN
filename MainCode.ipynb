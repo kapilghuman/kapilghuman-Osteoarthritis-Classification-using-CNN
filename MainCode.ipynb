{
 "cells": [
  {
   "cell_type": "code",
   "execution_count": 1,
   "metadata": {},
   "outputs": [],
   "source": [
    "#new Code"
   ]
  },
  {
   "cell_type": "code",
   "execution_count": 1,
   "metadata": {},
   "outputs": [
    {
     "name": "stderr",
     "output_type": "stream",
     "text": [
      "Using TensorFlow backend.\n"
     ]
    }
   ],
   "source": [
    "#from tensorflow.examples.tutorials.mnist import input_data\n",
    "from keras.preprocessing.image import ImageDataGenerator \n",
    "from keras.models import Sequential\n",
    "from keras.layers import Reshape,Conv2D, LSTM,MaxPooling2D \n",
    "from keras.layers import Activation, Dropout, Flatten, Dense \n",
    "from keras.models import load_model\n",
    "import numpy as np\n",
    "import pandas as pd\n",
    "import matplotlib.pyplot as plt \n",
    "from keras import backend as K \n",
    "\n",
    "img_width, img_height = 224, 224"
   ]
  },
  {
   "cell_type": "code",
   "execution_count": 2,
   "metadata": {},
   "outputs": [],
   "source": [
    "from keras.preprocessing.image import ImageDataGenerator\n",
    "\n",
    "train_data_dir = '../../train (copy)/'\n",
    "validation_data_dir = '../../val/'\n",
    "test_data_dir = '../../test/'\n",
    "nb_train_samples =2100 \n",
    "nb_validation_samples = 696\n",
    "nb_test_samples = 900\n",
    "epochs = 10\n",
    "batch_size = 16\n"
   ]
  },
  {
   "cell_type": "code",
   "execution_count": 3,
   "metadata": {},
   "outputs": [],
   "source": [
    "\n",
    "if K.image_data_format() == 'channels_first': \n",
    "    input_shape = (3, img_width, img_height) \n",
    "else: \n",
    "    input_shape = (img_width, img_height, 3) \n"
   ]
  },
  {
   "cell_type": "code",
   "execution_count": 4,
   "metadata": {},
   "outputs": [],
   "source": [
    "# model.add(Conv2D(32, (2, 2), input_shape=input_shape)) \n",
    "# model.add(Activation('relu')) \n",
    "# model.add(MaxPooling2D(pool_size=(2, 2))) \n",
    "  \n",
    "# model.add(Conv2D(32, (2, 2))) \n",
    "# model.add(Activation('relu')) \n",
    "# model.add(MaxPooling2D(pool_size=(2, 2))) \n",
    "  \n",
    "# model.add(Conv2D(64, (2, 2))) \n",
    "# model.add(Activation('relu')) \n",
    "# model.add(MaxPooling2D(pool_size=(2, 2))) \n",
    "  \n",
    "# model.add(Flatten()) \n",
    "# model.add(Dense(64)) \n",
    "# model.add(Activation('relu')) \n",
    "# model.add(Dropout(0.5)) \n",
    "# model.add(Dense(5)) \n",
    "# model.add(Activation('softmax')) \n"
   ]
  },
  {
   "cell_type": "code",
   "execution_count": 4,
   "metadata": {},
   "outputs": [],
   "source": [
    "time_steps=224 # timesteps to unroll\n",
    "n_units=128 # hidden LSTM units\n",
    "n_inputs=224 # rows of 28 pixels (an x-ray img of is 28x28)\n",
    "n_classes=5 # KL grade classes/labels (0-4)\n",
    "batch_size=128 # Size of each batch\n",
    "n_epochs=5"
   ]
  },
  {
   "cell_type": "code",
   "execution_count": 5,
   "metadata": {},
   "outputs": [],
   "source": [
    "model = Sequential() \n",
    "model.add(LSTM(n_units,input_shape=(time_steps, n_inputs)))\n",
    "model.add(Dense(n_classes, activation='softmax'))"
   ]
  },
  {
   "cell_type": "code",
   "execution_count": 6,
   "metadata": {},
   "outputs": [],
   "source": [
    "model.compile(loss='categorical_crossentropy', \n",
    "              optimizer='rmsprop', \n",
    "              metrics=['accuracy']) \n"
   ]
  },
  {
   "cell_type": "code",
   "execution_count": 11,
   "metadata": {},
   "outputs": [
    {
     "name": "stdout",
     "output_type": "stream",
     "text": [
      "Found 2100 images belonging to 5 classes.\n",
      "Found 696 images belonging to 5 classes.\n",
      "Found 900 images belonging to 5 classes.\n"
     ]
    }
   ],
   "source": [
    "train_datagen = ImageDataGenerator( \n",
    "                rotation_range = 30, zoom_range = 0.20, \n",
    "            fill_mode = \"nearest\", shear_range = 0.20, horizontal_flip = False, \n",
    "            width_shift_range = 0.1, height_shift_range = 0.1\n",
    ") \n",
    "  \n",
    "valid_datagen = ImageDataGenerator(rescale = 1. / 255,\n",
    "                                  shear_range = 0.2, \n",
    "                  zoom_range = 0.2, \n",
    "            horizontal_flip = True) \n",
    "test_datagen = ImageDataGenerator(rescale = 1. / 255) \n",
    "  \n",
    "train_generator = train_datagen.flow_from_directory(train_data_dir, \n",
    "                              target_size =(img_width, img_height), \n",
    "                                                    color_mode=\"grayscale\",\n",
    "                     batch_size = batch_size, class_mode ='categorical') \n",
    "  \n",
    "validation_generator = valid_datagen.flow_from_directory( \n",
    "                                    validation_data_dir, \n",
    "                        color_mode=\"grayscale\",\n",
    "                   target_size =(img_width, img_height), \n",
    "          batch_size = batch_size, class_mode ='categorical') \n",
    "\n",
    "test_generator = test_datagen.flow_from_directory( \n",
    "                                    test_data_dir, \n",
    "                   target_size =(img_width, img_height), \n",
    "    color_mode=\"grayscale\",\n",
    "          batch_size = batch_size, class_mode ='categorical') "
   ]
  },
  {
   "cell_type": "code",
   "execution_count": 12,
   "metadata": {},
   "outputs": [
    {
     "data": {
      "text/plain": [
       "(128, 224, 224, 1)"
      ]
     },
     "execution_count": 12,
     "metadata": {},
     "output_type": "execute_result"
    }
   ],
   "source": [
    "train_x,train_y = next(train_generator)\n",
    "train_x.shape"
   ]
  },
  {
   "cell_type": "code",
   "execution_count": 13,
   "metadata": {},
   "outputs": [],
   "source": [
    "train_x = train_x.reshape(128,img_width, img_height)"
   ]
  },
  {
   "cell_type": "code",
   "execution_count": 14,
   "metadata": {
    "scrolled": false
   },
   "outputs": [
    {
     "name": "stdout",
     "output_type": "stream",
     "text": [
      "Epoch 1/100\n",
      "128/128 [==============================] - 3s 25ms/step - loss: 1.6470 - accuracy: 0.1250\n",
      "Epoch 2/100\n",
      "128/128 [==============================] - 4s 29ms/step - loss: 1.5983 - accuracy: 0.2578\n",
      "Epoch 3/100\n",
      "128/128 [==============================] - 3s 25ms/step - loss: 1.5790 - accuracy: 0.2500\n",
      "Epoch 4/100\n",
      "128/128 [==============================] - 3s 23ms/step - loss: 1.5840 - accuracy: 0.2344\n",
      "Epoch 5/100\n",
      "128/128 [==============================] - 3s 25ms/step - loss: 1.5750 - accuracy: 0.2578\n",
      "Epoch 6/100\n",
      "128/128 [==============================] - 3s 23ms/step - loss: 1.5733 - accuracy: 0.2891\n",
      "Epoch 7/100\n",
      "128/128 [==============================] - 3s 24ms/step - loss: 1.5683 - accuracy: 0.3281\n",
      "Epoch 8/100\n",
      "128/128 [==============================] - 3s 25ms/step - loss: 1.5697 - accuracy: 0.2891\n",
      "Epoch 9/100\n",
      "128/128 [==============================] - 3s 25ms/step - loss: 1.5700 - accuracy: 0.2578\n",
      "Epoch 10/100\n",
      "128/128 [==============================] - 3s 22ms/step - loss: 1.5614 - accuracy: 0.2969\n",
      "Epoch 11/100\n",
      "128/128 [==============================] - 3s 25ms/step - loss: 1.5576 - accuracy: 0.2891\n",
      "Epoch 12/100\n",
      "128/128 [==============================] - 3s 25ms/step - loss: 1.5604 - accuracy: 0.2734\n",
      "Epoch 13/100\n",
      "128/128 [==============================] - 3s 27ms/step - loss: 1.5595 - accuracy: 0.2969\n",
      "Epoch 14/100\n",
      "128/128 [==============================] - 4s 28ms/step - loss: 1.5604 - accuracy: 0.2969\n",
      "Epoch 15/100\n",
      "128/128 [==============================] - 4s 28ms/step - loss: 1.5638 - accuracy: 0.2734\n",
      "Epoch 16/100\n",
      "128/128 [==============================] - 3s 26ms/step - loss: 1.5647 - accuracy: 0.2578\n",
      "Epoch 17/100\n",
      "128/128 [==============================] - 3s 27ms/step - loss: 1.5648 - accuracy: 0.2734\n",
      "Epoch 18/100\n",
      "128/128 [==============================] - 3s 23ms/step - loss: 1.5610 - accuracy: 0.3047\n",
      "Epoch 19/100\n",
      "128/128 [==============================] - 4s 31ms/step - loss: 1.5658 - accuracy: 0.2812\n",
      "Epoch 20/100\n",
      "128/128 [==============================] - 3s 26ms/step - loss: 1.5691 - accuracy: 0.2969\n",
      "Epoch 21/100\n",
      "128/128 [==============================] - 3s 24ms/step - loss: 1.5578 - accuracy: 0.2969\n",
      "Epoch 22/100\n",
      "128/128 [==============================] - 3s 24ms/step - loss: 1.5744 - accuracy: 0.2500\n",
      "Epoch 23/100\n",
      "128/128 [==============================] - 3s 22ms/step - loss: 1.5785 - accuracy: 0.2500\n",
      "Epoch 24/100\n",
      "128/128 [==============================] - 4s 28ms/step - loss: 1.5735 - accuracy: 0.2500\n",
      "Epoch 25/100\n",
      "128/128 [==============================] - 3s 26ms/step - loss: 1.5751 - accuracy: 0.2188\n",
      "Epoch 26/100\n",
      "128/128 [==============================] - 3s 26ms/step - loss: 1.5728 - accuracy: 0.2656\n",
      "Epoch 27/100\n",
      "128/128 [==============================] - 3s 26ms/step - loss: 1.5727 - accuracy: 0.2734\n",
      "Epoch 28/100\n",
      "128/128 [==============================] - 4s 28ms/step - loss: 1.5694 - accuracy: 0.2812\n",
      "Epoch 29/100\n",
      "128/128 [==============================] - 4s 30ms/step - loss: 1.5686 - accuracy: 0.2578\n",
      "Epoch 30/100\n",
      "128/128 [==============================] - 3s 24ms/step - loss: 1.5632 - accuracy: 0.2422\n",
      "Epoch 31/100\n",
      "128/128 [==============================] - 4s 33ms/step - loss: 1.5680 - accuracy: 0.2656\n",
      "Epoch 32/100\n",
      "128/128 [==============================] - 3s 26ms/step - loss: 1.5727 - accuracy: 0.2500\n",
      "Epoch 33/100\n",
      "128/128 [==============================] - 3s 24ms/step - loss: 1.5718 - accuracy: 0.2734\n",
      "Epoch 34/100\n",
      "128/128 [==============================] - 3s 25ms/step - loss: 1.5749 - accuracy: 0.2109\n",
      "Epoch 35/100\n",
      "128/128 [==============================] - 4s 29ms/step - loss: 1.5750 - accuracy: 0.2500\n",
      "Epoch 36/100\n",
      "128/128 [==============================] - 3s 25ms/step - loss: 1.5666 - accuracy: 0.2656\n",
      "Epoch 37/100\n",
      "128/128 [==============================] - 4s 30ms/step - loss: 1.5681 - accuracy: 0.2656\n",
      "Epoch 38/100\n",
      "128/128 [==============================] - 3s 27ms/step - loss: 1.5678 - accuracy: 0.2500\n",
      "Epoch 39/100\n",
      "128/128 [==============================] - 3s 23ms/step - loss: 1.5728 - accuracy: 0.2656\n",
      "Epoch 40/100\n",
      "128/128 [==============================] - 3s 23ms/step - loss: 1.5732 - accuracy: 0.2656\n",
      "Epoch 41/100\n",
      "128/128 [==============================] - 3s 27ms/step - loss: 1.5716 - accuracy: 0.2656\n",
      "Epoch 42/100\n",
      "128/128 [==============================] - 3s 25ms/step - loss: 1.5724 - accuracy: 0.2656\n",
      "Epoch 43/100\n",
      "128/128 [==============================] - 4s 31ms/step - loss: 1.5719 - accuracy: 0.2656\n",
      "Epoch 44/100\n",
      "128/128 [==============================] - 3s 27ms/step - loss: 1.5685 - accuracy: 0.2656\n",
      "Epoch 45/100\n",
      "128/128 [==============================] - 4s 28ms/step - loss: 1.5710 - accuracy: 0.2344\n",
      "Epoch 46/100\n",
      "128/128 [==============================] - 3s 24ms/step - loss: 1.5733 - accuracy: 0.2578\n",
      "Epoch 47/100\n",
      "128/128 [==============================] - 4s 27ms/step - loss: 1.5718 - accuracy: 0.2734\n",
      "Epoch 48/100\n",
      "128/128 [==============================] - 3s 27ms/step - loss: 1.5728 - accuracy: 0.2734\n",
      "Epoch 49/100\n",
      "128/128 [==============================] - 3s 24ms/step - loss: 1.5719 - accuracy: 0.2422\n",
      "Epoch 50/100\n",
      "128/128 [==============================] - 3s 23ms/step - loss: 1.5677 - accuracy: 0.2656\n",
      "Epoch 51/100\n",
      "128/128 [==============================] - 4s 28ms/step - loss: 1.5781 - accuracy: 0.2422\n",
      "Epoch 52/100\n",
      "128/128 [==============================] - 3s 26ms/step - loss: 1.5758 - accuracy: 0.2734\n",
      "Epoch 53/100\n",
      "128/128 [==============================] - 4s 29ms/step - loss: 1.5689 - accuracy: 0.2656\n",
      "Epoch 54/100\n",
      "128/128 [==============================] - 4s 30ms/step - loss: 1.5700 - accuracy: 0.2734\n",
      "Epoch 55/100\n",
      "128/128 [==============================] - 3s 26ms/step - loss: 1.5684 - accuracy: 0.2656\n",
      "Epoch 56/100\n",
      "128/128 [==============================] - 4s 27ms/step - loss: 1.5639 - accuracy: 0.2734\n",
      "Epoch 57/100\n",
      "128/128 [==============================] - 3s 23ms/step - loss: 1.5612 - accuracy: 0.2578\n",
      "Epoch 58/100\n",
      "128/128 [==============================] - 4s 28ms/step - loss: 1.5674 - accuracy: 0.2812\n",
      "Epoch 59/100\n",
      "128/128 [==============================] - 3s 25ms/step - loss: 1.5672 - accuracy: 0.2812\n",
      "Epoch 60/100\n",
      "128/128 [==============================] - 3s 25ms/step - loss: 1.5694 - accuracy: 0.2656\n",
      "Epoch 61/100\n",
      "128/128 [==============================] - 3s 26ms/step - loss: 1.5683 - accuracy: 0.2734\n",
      "Epoch 62/100\n",
      "128/128 [==============================] - 3s 24ms/step - loss: 1.5686 - accuracy: 0.2891\n",
      "Epoch 63/100\n",
      "128/128 [==============================] - 4s 30ms/step - loss: 1.5712 - accuracy: 0.2656\n",
      "Epoch 64/100\n",
      "128/128 [==============================] - 3s 23ms/step - loss: 1.5688 - accuracy: 0.2656\n",
      "Epoch 65/100\n",
      "128/128 [==============================] - 3s 26ms/step - loss: 1.5653 - accuracy: 0.2656\n",
      "Epoch 66/100\n",
      "128/128 [==============================] - 4s 29ms/step - loss: 1.5660 - accuracy: 0.2734\n",
      "Epoch 67/100\n",
      "128/128 [==============================] - 4s 28ms/step - loss: 1.5617 - accuracy: 0.2969\n",
      "Epoch 68/100\n",
      "128/128 [==============================] - 4s 29ms/step - loss: 1.5587 - accuracy: 0.3047\n",
      "Epoch 69/100\n",
      "128/128 [==============================] - 4s 27ms/step - loss: 1.5665 - accuracy: 0.2734\n",
      "Epoch 70/100\n",
      "128/128 [==============================] - 3s 27ms/step - loss: 1.5651 - accuracy: 0.2734\n",
      "Epoch 71/100\n",
      "128/128 [==============================] - 3s 25ms/step - loss: 1.5591 - accuracy: 0.2656\n",
      "Epoch 72/100\n",
      "128/128 [==============================] - 4s 29ms/step - loss: 1.5664 - accuracy: 0.2734\n",
      "Epoch 73/100\n",
      "128/128 [==============================] - 3s 26ms/step - loss: 1.5642 - accuracy: 0.2891\n",
      "Epoch 74/100\n",
      "128/128 [==============================] - 3s 22ms/step - loss: 1.5594 - accuracy: 0.2891\n",
      "Epoch 75/100\n",
      "128/128 [==============================] - 4s 28ms/step - loss: 1.5585 - accuracy: 0.2891\n",
      "Epoch 76/100\n",
      "128/128 [==============================] - 3s 25ms/step - loss: 1.5700 - accuracy: 0.2734\n",
      "Epoch 77/100\n",
      "128/128 [==============================] - 4s 32ms/step - loss: 1.5650 - accuracy: 0.2734\n",
      "Epoch 78/100\n",
      "128/128 [==============================] - 6s 51ms/step - loss: 1.5653 - accuracy: 0.3047\n",
      "Epoch 79/100\n",
      "128/128 [==============================] - 4s 32ms/step - loss: 1.5727 - accuracy: 0.2578\n",
      "Epoch 80/100\n"
     ]
    },
    {
     "name": "stdout",
     "output_type": "stream",
     "text": [
      "128/128 [==============================] - 4s 34ms/step - loss: 1.5559 - accuracy: 0.3047\n",
      "Epoch 81/100\n",
      "128/128 [==============================] - 4s 30ms/step - loss: 1.5752 - accuracy: 0.2500\n",
      "Epoch 82/100\n",
      "128/128 [==============================] - 3s 26ms/step - loss: 1.5628 - accuracy: 0.2656\n",
      "Epoch 83/100\n",
      "128/128 [==============================] - 6s 45ms/step - loss: 1.5593 - accuracy: 0.2891\n",
      "Epoch 84/100\n",
      "128/128 [==============================] - 3s 25ms/step - loss: 1.5573 - accuracy: 0.2812\n",
      "Epoch 85/100\n",
      "128/128 [==============================] - 4s 29ms/step - loss: 1.5690 - accuracy: 0.2109\n",
      "Epoch 86/100\n",
      "128/128 [==============================] - 6s 50ms/step - loss: 1.5588 - accuracy: 0.2656\n",
      "Epoch 87/100\n",
      "128/128 [==============================] - 16s 124ms/step - loss: 1.5596 - accuracy: 0.2734\n",
      "Epoch 88/100\n",
      "128/128 [==============================] - 18s 138ms/step - loss: 1.5566 - accuracy: 0.2734\n",
      "Epoch 89/100\n",
      "128/128 [==============================] - 22s 173ms/step - loss: 1.5585 - accuracy: 0.2344\n",
      "Epoch 90/100\n",
      "128/128 [==============================] - 8s 60ms/step - loss: 1.5567 - accuracy: 0.2891\n",
      "Epoch 91/100\n",
      "128/128 [==============================] - 5s 37ms/step - loss: 1.5608 - accuracy: 0.2812\n",
      "Epoch 92/100\n",
      "128/128 [==============================] - 4s 34ms/step - loss: 1.5605 - accuracy: 0.2734\n",
      "Epoch 93/100\n",
      "128/128 [==============================] - 3s 25ms/step - loss: 1.5565 - accuracy: 0.2656\n",
      "Epoch 94/100\n",
      "128/128 [==============================] - 6s 44ms/step - loss: 1.5561 - accuracy: 0.2969\n",
      "Epoch 95/100\n",
      "128/128 [==============================] - 11s 84ms/step - loss: 1.5539 - accuracy: 0.2969\n",
      "Epoch 96/100\n",
      "128/128 [==============================] - 6s 45ms/step - loss: 1.5551 - accuracy: 0.2969\n",
      "Epoch 97/100\n",
      "128/128 [==============================] - 3s 27ms/step - loss: 1.5536 - accuracy: 0.2812\n",
      "Epoch 98/100\n",
      "128/128 [==============================] - 4s 28ms/step - loss: 1.5536 - accuracy: 0.3281\n",
      "Epoch 99/100\n",
      "128/128 [==============================] - 3s 23ms/step - loss: 1.5551 - accuracy: 0.3047\n",
      "Epoch 100/100\n",
      "128/128 [==============================] - 10s 77ms/step - loss: 1.5550 - accuracy: 0.2656\n"
     ]
    },
    {
     "data": {
      "text/plain": [
       "<keras.callbacks.callbacks.History at 0x7f06645aa9e8>"
      ]
     },
     "execution_count": 14,
     "metadata": {},
     "output_type": "execute_result"
    }
   ],
   "source": [
    "model.fit(train_x, train_y, batch_size = 32, epochs = 100)"
   ]
  },
  {
   "cell_type": "code",
   "execution_count": 16,
   "metadata": {},
   "outputs": [
    {
     "data": {
      "text/plain": [
       "(128, 224, 224, 1)"
      ]
     },
     "execution_count": 16,
     "metadata": {},
     "output_type": "execute_result"
    }
   ],
   "source": [
    "test_x,test_y = next(test_generator)\n",
    "test_x.shape\n"
   ]
  },
  {
   "cell_type": "code",
   "execution_count": null,
   "metadata": {},
   "outputs": [],
   "source": [
    "# test_x = test_x.reshape(test_x.shape[0],img_width, img_height)\n",
    "\n",
    "\n",
    "\n",
    "#         model = load_model(model) if model else self.model\n",
    "#         test_loss = model.evaluate(x_test, self.mnist.test.labels)\n",
    "#         print(test_loss)"
   ]
  },
  {
   "cell_type": "code",
   "execution_count": 15,
   "metadata": {},
   "outputs": [],
   "source": [
    "# model.fit_generator((train_x train_y) \n",
    "#     #steps_per_epoch = nb_train_samples ,\n",
    "#                     #batch_size\n",
    "#     #epochs = epochs, \n",
    "#                     #validation_data = validation_generator, \n",
    "#     #validation_steps = nb_validation_samples\n",
    "#                     #batch_size\n",
    "#                    ) \n",
    "  \n",
    "# #model.save_weights('model_saved.h5') "
   ]
  },
  {
   "cell_type": "code",
   "execution_count": null,
   "metadata": {},
   "outputs": [],
   "source": [
    "# # load and iterate training dataset\n",
    "\n",
    "# train_it = datagen.flow_from_directory(train_data_dir,target_size=(224, 224),\n",
    "#     color_mode=\"grayscale\",\n",
    "#     batch_size=32,\n",
    "#     class_mode=\"categorical\",\n",
    "#     shuffle=False,\n",
    "#     seed=42)\n",
    "# # load and iterate validation dataset\n",
    "# val_it = datagen.flow_from_directory(validation_data_dir,target_size=(224, 224),\n",
    "#     color_mode=\"grayscale\",\n",
    "#     batch_size=32,\n",
    "#     class_mode=\"categorical\",\n",
    "#     shuffle=False,\n",
    "#     seed=42)\n",
    "# # # load and iterate test dataset\n",
    "# test_it = datagen.flow_from_directory(test_data_dir,target_size=(224, 224),\n",
    "#     color_mode=\"grayscale\",\n",
    "#     batch_size=32,\n",
    "#     class_mode=\"categorical\",\n",
    "#     shuffle=False,\n",
    "#     seed=42)"
   ]
  },
  {
   "cell_type": "code",
   "execution_count": null,
   "metadata": {},
   "outputs": [],
   "source": [
    "# # fit model\n",
    "# nb_train_samples =400 \n",
    "# nb_validation_samples = 100\n",
    "# epochs = 10\n",
    "# batch_size = 16\n",
    "# model.fit_generator( \n",
    "#     train_it, \n",
    "#     steps_per_epoch=nb_train_samples // batch_size, \n",
    "#     epochs=epochs, \n",
    "#     validation_data=val_it, \n",
    "#     validation_steps=nb_validation_samples // batch_size) "
   ]
  },
  {
   "cell_type": "code",
   "execution_count": 37,
   "metadata": {},
   "outputs": [],
   "source": [
    "# def __create_model():\n",
    "#     model = Sequential()\n",
    "#     model.add(LSTM(n_units, input_shape=(time_steps, n_inputs)))\n",
    "#     model.add(Dense(n_classes, activation='softmax'))\n",
    "\n",
    "#     model.compile(loss='categorical_crossentropy',\n",
    "#                   optimizer='rmsprop',\n",
    "#                   metrics=['accuracy'])"
   ]
  },
  {
   "cell_type": "code",
   "execution_count": 12,
   "metadata": {},
   "outputs": [
    {
     "ename": "ModuleNotFoundError",
     "evalue": "No module named 'tensorflow.examples.tutorials'",
     "output_type": "error",
     "traceback": [
      "\u001b[0;31m---------------------------------------------------------------------------\u001b[0m",
      "\u001b[0;31mModuleNotFoundError\u001b[0m                       Traceback (most recent call last)",
      "\u001b[0;32m<ipython-input-12-837a9aea8bf6>\u001b[0m in \u001b[0;36m<module>\u001b[0;34m\u001b[0m\n\u001b[1;32m      1\u001b[0m \u001b[0;32mimport\u001b[0m \u001b[0msys\u001b[0m\u001b[0;34m\u001b[0m\u001b[0;34m\u001b[0m\u001b[0m\n\u001b[1;32m      2\u001b[0m \u001b[0;34m\u001b[0m\u001b[0m\n\u001b[0;32m----> 3\u001b[0;31m \u001b[0;32mfrom\u001b[0m \u001b[0mtensorflow\u001b[0m\u001b[0;34m.\u001b[0m\u001b[0mexamples\u001b[0m\u001b[0;34m.\u001b[0m\u001b[0mtutorials\u001b[0m\u001b[0;34m.\u001b[0m\u001b[0mmnist\u001b[0m \u001b[0;32mimport\u001b[0m \u001b[0minput_data\u001b[0m\u001b[0;34m\u001b[0m\u001b[0;34m\u001b[0m\u001b[0m\n\u001b[0m\u001b[1;32m      4\u001b[0m \u001b[0;32mfrom\u001b[0m \u001b[0mkeras\u001b[0m\u001b[0;34m.\u001b[0m\u001b[0mmodels\u001b[0m \u001b[0;32mimport\u001b[0m \u001b[0mSequential\u001b[0m\u001b[0;34m\u001b[0m\u001b[0;34m\u001b[0m\u001b[0m\n\u001b[1;32m      5\u001b[0m \u001b[0;32mfrom\u001b[0m \u001b[0mkeras\u001b[0m\u001b[0;34m.\u001b[0m\u001b[0mlayers\u001b[0m \u001b[0;32mimport\u001b[0m \u001b[0mLSTM\u001b[0m\u001b[0;34m,\u001b[0m \u001b[0mDense\u001b[0m\u001b[0;34m\u001b[0m\u001b[0;34m\u001b[0m\u001b[0m\n",
      "\u001b[0;31mModuleNotFoundError\u001b[0m: No module named 'tensorflow.examples.tutorials'"
     ]
    }
   ],
   "source": [
    "# class MnistLSTMClassifier(object):\n",
    "\n",
    "\n",
    "\n",
    "#     def __load_data(self):\n",
    "#         self.mnist = input_data.read_data_sets(\"mnist\", one_hot=True)\n",
    "#         self._data_loaded = True\n",
    "\n",
    "#     def train(self, save_model=False):\n",
    "#         self.__create_model()\n",
    "#         if self._data_loaded == False:\n",
    "#             self.__load_data()\n",
    "\n",
    "#         x_train = [x.reshape((-1, self.time_steps, self.n_inputs)) for x in self.mnist.train.images]\n",
    "#         x_train = np.array(x_train).reshape((-1, self.time_steps, self.n_inputs))\n",
    "\n",
    "#         self.model.fit(x_train, self.mnist.train.labels,\n",
    "#                   batch_size=self.batch_size, epochs=self.n_epochs, shuffle=False)\n",
    "\n",
    "#         self._trained = True\n",
    "        \n",
    "#         if save_model:\n",
    "#             self.model.save(\"./saved_model/lstm-model.h5\")\n",
    "\n",
    "#     def evaluate(self, model=None):\n",
    "#         if self._trained == False and model == None:\n",
    "#             errmsg = \"[!] Error: classifier wasn't trained or classifier path is not precised.\"\n",
    "#             print(errmsg, file=sys.stderr)\n",
    "#             sys.exit(0)\n",
    "\n",
    "#         if self._data_loaded == False:\n",
    "#             self.__load_data()\n",
    "\n",
    "#         x_test = [x.reshape((-1, self.time_steps, self.n_inputs)) for x in self.mnist.test.images]\n",
    "#         x_test = np.array(x_test).reshape((-1, self.time_steps, self.n_inputs))\n",
    "\n",
    "#         model = load_model(model) if model else self.model\n",
    "#         test_loss = model.evaluate(x_test, self.mnist.test.labels)\n",
    "#         print(test_loss)\n",
    "\n",
    "\n",
    "# if __name__ == \"__main__\":\n",
    "#     lstm_classifier = MnistLSTMClassifier()\n",
    "#     lstm_classifier.train(save_model=True)\n",
    "#     lstm_classifier.evaluate()"
   ]
  }
 ],
 "metadata": {
  "kernelspec": {
   "display_name": "Python 3",
   "language": "python",
   "name": "python3"
  },
  "language_info": {
   "codemirror_mode": {
    "name": "ipython",
    "version": 3
   },
   "file_extension": ".py",
   "mimetype": "text/x-python",
   "name": "python",
   "nbconvert_exporter": "python",
   "pygments_lexer": "ipython3",
   "version": "3.7.3"
  }
 },
 "nbformat": 4,
 "nbformat_minor": 4
}
